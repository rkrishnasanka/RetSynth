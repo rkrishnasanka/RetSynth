{
 "cells": [
  {
   "cell_type": "markdown",
   "metadata": {
    "deletable": true,
    "editable": true
   },
   "source": [
    "# RetroSynth (RS)\n",
    "## Description\n",
    "RetroSynth is a python tool which identfies enzyme/reaction pairs, using integer linear programming that need to be inserted into a select microbial organisms to produce a target chemical compound. \n",
    "\n",
    "In the process of bioengineering a microbial organism, identifying reactions and enzymes to genetically insert for optimal production of a chemical compound is extremely difficult due to the vast number of enzymes/reactions pairs in numerous organisms that maybe available.  \n",
    "\n",
    "By assembling a database of genome-wide metabolic networks for a plethora of microbial organisms and framing this information into an integer linear program, we can identify the minimal number of enzyme/reaction pairs that are necessary to be transformed into an organism for synthesis of a compound.  Identifying the minimal number of enzyme/reaction pairs steps is beneficial for cost and success as less genetic manipulation would be required.  Furthermore, RS can predict theoretical production yields of a compound by simulating metabolism using flux balance analysis (FBA) of the select microbial organism.\n",
    "\n",
    "The overaching goal of RS is to streamline an arduous and complex step of bioengineering a microbial organism, which will enable scientists to inexpensively expedite the production of important chemical compounds.\n",
    "\n",
    "## RS Workflow\n",
    "1. Install necessary libraries for RS\n",
    "2. Construction of Metabolic Database\n",
    "3. Target Compounds\n",
    "4. Generating Stoichiometric Matrix for Reactions and Compounds in the Metabolic Database\n",
    "5. Obtain pathway"
   ]
  },
  {
   "cell_type": "markdown",
   "metadata": {
    "deletable": true,
    "editable": true
   },
   "source": [
    "## Installation of python and other libraries for RS\n",
    "1. To run RS the install the linear programming software GLPK and the corresponding partner package GMP\n",
    "\n",
    "    GNU/GLPK \t Download from the website http://ftp.gnu.org/gnu/glpk/ (glpk-4.64.tar.gz for   mac)\n",
    "2. To get figures install graphviz\n",
    "   \n",
    "    GraphViz     Download from the website http://graphviz.org/ or using MacPorts or brew\n",
    "\n",
    "3. Install following python libraries\n",
    "\n",
    "    glpk==0.3 or pulp (glpk is faster however if on linux or mac with versions glpk-4.4 or higher glpk will not work so pulp should be used instead. Pulp is the default.  \n",
    "    \n",
    "    pulp==1.6.8\n",
    "   \n",
    "    cobra==0.6.2\n",
    "    \n",
    "    pygraphviz==1.3.1\n",
    "    \n",
    "    beautifulsoup==4-4.4.1-3\n",
    "    \n",
    "    python-libsbml-experimental==5.10.0"
   ]
  },
  {
   "cell_type": "markdown",
   "metadata": {
    "deletable": true,
    "editable": true
   },
   "source": [
    "### Import Libraries\n",
    "Imports necessary python libraries for running RS"
   ]
  },
  {
   "cell_type": "code",
   "execution_count": 15,
   "metadata": {
    "collapsed": false,
    "deletable": true,
    "editable": true
   },
   "outputs": [],
   "source": [
    "#Python Libraries\n",
    "from multiprocessing import Process, Queue\n",
    "import urllib2\n",
    "import argparse\n",
    "import cPickle\n",
    "import sys\n",
    "import os\n",
    "import re\n",
    "import glob\n",
    "\n",
    "#Adds necessary Paths to PATH enviornment to use graphviz\n",
    "#likely only necessary if graphviz was downloaded with macports \n",
    "#or brew and using canopy\n",
    "paths = os.environ['PATH'].split(':')\n",
    "if '/opt/local/sbin' not in paths:\n",
    "    os.environ['PATH'] = os.environ['PATH']+':/opt/local/sbin'\n",
    "if '/opt/local/bin' not in paths:\n",
    "    os.environ['PATH'] = os.environ['PATH']+':/opt/local/bin'\n",
    "\n",
    "# If using a proxy, proxy address will need to be added in between quotes '' to \n",
    "# work in this jupyter notebook\n",
    "proxy_support = urllib2.ProxyHandler({\n",
    "'http': 'http://wwwproxy.sandia.gov:80',\n",
    "'https': 'https://wwwproxy.sandia.gov:80'\n",
    "})\n",
    "opener = urllib2.build_opener(proxy_support)\n",
    "urllib2.install_opener(opener)\n",
    "\n",
    "#Parser Libraries\n",
    "from Parser import read_startcompounds as rtsc\n",
    "from Parser import read_targets as rt\n",
    "from Parser import generate_output as go\n",
    "from Parser import structure_similarity as ss\n",
    "\n",
    "#Visualization Libraries\n",
    "from Visualization import SP_Graph_dot as spgd\n",
    "from Visualization import reaction_files as rf\n",
    "\n",
    "#Shortest Path Libraries\n",
    "from ShortestPath import extractinfo as ei\n",
    "from ShortestPath import constraints as co\n",
    "from ShortestPath import integerprogram_glpk as ip_glpk\n",
    "from ShortestPath import integerprogram_pulp as ip_pulp\n",
    "from ShortestPath import search_sp_metclusters as smc\n",
    "\n",
    "#Database Libraries\n",
    "import sqlite3\n",
    "from Database import initialize_database as init_db\n",
    "from Database import build_kbase_db as bkdb\n",
    "from Database import build_KEGG_db as bkeggdb\n",
    "from Database import build_metacyc_db as bmcdb\n",
    "from Database import build_ATLAS_db as batlasdb\n",
    "from Database import build_MINE_db as bminedb\n",
    "from Database import build_SPRESI_db as bspresidb\n",
    "from Database import remove_duplicate_cpds as rdc\n",
    "from Database import query as Q\n",
    "\n",
    "#Flux balance analysis Libraries\n",
    "from FBA import build_model as bm\n",
    "from FBA import optimize_target as ot\n",
    "from FBA import compare_results as cr\n",
    "from FBA import retrieve_producable_mets as rpm\n",
    "from FBA import compareKO_results as crko\n",
    "\n",
    "PATH = os.path.dirname(os.path.abspath(\"__file__\"))\n",
    "\n"
   ]
  },
  {
   "cell_type": "markdown",
   "metadata": {
    "deletable": true,
    "editable": true
   },
   "source": [
    "### Specifiy User Options\n",
    "Set options necessary for running RS (most important box for user to review)"
   ]
  },
  {
   "cell_type": "code",
   "execution_count": 16,
   "metadata": {
    "collapsed": true,
    "deletable": true,
    "editable": true
   },
   "outputs": [],
   "source": [
    "#file of target molecules. Required!\n",
    "target_file = '/Users/lwhitmo/Retrosynthesis/CompoundLists/test.txt'\n",
    "\n",
    "#User can specify specific directory for results to be stored \n",
    "#(default will be path where RS is located)\n",
    "output_path = '/Users/lwhitmo/Desktop'         \n",
    "\n",
    "#python package to use to connect to glpk solver software (can use GLPK or PULP (default))\n",
    "_solver = 'PULP'\n",
    "\n",
    "#Time limit to get a solution ( only works with PULP)\n",
    "_solver_time_limit = 'None'\n",
    "\n",
    "#Determines whether new database is necessary. If user already has developed a database and wants \n",
    "#to use it then this should be set to False.\n",
    "create_new_database = False\n",
    "\n",
    "#Name of database. Required!\n",
    "database = '/Users/lwhitmo/DBinchi_kbase_mc_revers_kegg_MINE_ATLAS.db'\n",
    "\n",
    "#Determines whether to generate new constraint file.  If False will use a constraint file already present\n",
    "create_new_constraints = False\n",
    "\n",
    "#Constraint file. Required! if create_new_constraints = True or False\n",
    "constraints_file = '/Users/lwhitmo/DBinchi_kbase_mc_revers_kegg_MINE_ATLAS.constraints'\n",
    "\n",
    "#Whether inchi values will be used as compound identifiers in database\n",
    "inchidb = True\n",
    "\n",
    "#Type of database to create (change to True)\n",
    "kbase = False\n",
    "\n",
    "metacyc = False\n",
    "\n",
    "kegg = False\n",
    "\n",
    "mine = False\n",
    "\n",
    "atlas = False\n",
    "\n",
    "SPRESI = False\n",
    "\n",
    "#Directory of metabolic networks. Required if create_new_database = True \n",
    "kbase_dir = './tests/data'\n",
    "\n",
    "#XML file of metacyc reactions. Required if metacyc = True\n",
    "metacyc_xml_file = './tests/data7/metabolic-reactions.xml'\n",
    "\n",
    "#Translation file of metacyc compound IDs to kbase. Required if metacyc = True\n",
    "translation_file = './tests/data7/MetaCyc.aliases'\n",
    "\n",
    "#Folder where spresi rdf files are stored. Required if SPRESI = True\n",
    "spresi_dir = ''\n",
    "\n",
    "#Folder where MINE files (.msp) are stored. Required if mine = True\n",
    "mine_dir = ''\n",
    "\n",
    "#Folder where ATLAS files (.csv) are stored. Required if atlas = True\n",
    "atlas_dir = ''\n",
    "\n",
    "#Type of reactions being added to database. Required if create_new_database = True\n",
    "kbase_reaction_type = 'bio'\n",
    "\n",
    "#Type of reactions being added to database. Required if create_new_database = True\n",
    "metacyc_reaction_type = 'bio'\n",
    "\n",
    "#Type of reactions being added to database. Required if create_new_database = True\n",
    "kegg_reaction_type = 'bio'\n",
    "\n",
    "#Type of species (bacteria, algae) to add reactions to the database\n",
    "kegg_organism_type = 'bacteria'\n",
    "\n",
    "#Number of organisms to add to the database from the kegg database\n",
    "kegg_number_organisms = '1'\n",
    "\n",
    "#Number of pathways from each organism to add from the organism to the database\n",
    "#from the kegg database\n",
    "kegg_number_pathways = '1'\n",
    "\n",
    "#Type of reactions being added to database. Required if create_new_database = True\n",
    "mine_reaction_type = 'bio'\n",
    "\n",
    "#Type of reactions being added to database. Required if create_new_database = True\n",
    "atlas_reaction_type = 'bio'\n",
    "\n",
    "#Type of reactions being added to database from spresi. Required if spresi_addition = True\n",
    "spresi_reaction_type = 'chem'\n",
    "\n",
    "#Sets whether to run flux balance analysis\n",
    "flux_balance_analysis = True\n",
    "\n",
    "#File specifying media components for running flux balance analysis\n",
    "media_for_FBA = ''\n",
    "\n",
    "#Sets whether to run knockout analysis when running flux balance analysis\n",
    "#(this can be time consuming)\n",
    "knockouts = False\n",
    "\n",
    "#Limits numer of reactions in a path\n",
    "limit_reactions = 10\n",
    "\n",
    "#Limits number of times cycle can be eliminated (not totally functional yet)\n",
    "limit_cycles = 'None' \n",
    "\n",
    "#Defines which type of reactions (bio, chem, or all (default)) \n",
    "#to be evaluated in identifying shortest paths\n",
    "evalrxns = 'all'\n",
    "\n",
    "#List of starting compounds (cannot be used with flux_balance_analysis)\n",
    "start_compounds = ''\n",
    "\n",
    "#Find multiple solutions\n",
    "multiple_solutions = 'True'\n",
    "\n",
    "#Find next shortest path\n",
    "k_number_of_paths = 0\n",
    "\n",
    "#Find pathways with out cycles\n",
    "cycles = 'True'\n",
    "\n",
    "#How many processors to use when finding shortest paths\n",
    "processors = 1\n",
    "\n",
    "#Sets whether to generate figures\n",
    "figures = True\n",
    "\n",
    "#Set whether to use chemical images or round nodes in output figures (default True)\n",
    "_images = True\n",
    "\n",
    "#set tanimoto threshold score\n",
    "tanimoto_threshold = 1.0"
   ]
  },
  {
   "cell_type": "markdown",
   "metadata": {
    "collapsed": true,
    "deletable": true,
    "editable": true
   },
   "source": [
    "\n",
    "### Construction of Metabolic Database"
   ]
  },
  {
   "cell_type": "code",
   "execution_count": 17,
   "metadata": {
    "collapsed": false,
    "deletable": true,
    "editable": true
   },
   "outputs": [],
   "source": [
    "##Connect to or create metabolic database\n",
    "def get_compartment(DB):\n",
    "    compartmentID_array = DB.get_compartment('cytosol')\n",
    "    if compartmentID_array is None:\n",
    "        compartmentID = 'c0'\n",
    "    else:\n",
    "        if compartmentID_array[0] == '':\n",
    "            compartmentID = 'c0'\n",
    "        else:\n",
    "            compartmentID = compartmentID_array[0]\n",
    "    return (compartmentID)\n",
    "\n",
    "if not database:\n",
    "    raise ValueError('need a file for database, see Specify User Options cell')\n",
    "\n",
    "if create_new_database:\n",
    "    init_db.Createdb(database, inchidb)\n",
    "    DB = Q.Connector(database)\n",
    "    if kbase:\n",
    "        if not kbase_dir:\n",
    "            raise ValueError('need a folder path for dump_directory, see Specify User Options cell')     \n",
    "        bkdb.BuildKbase(kbase_dir, PATH+'/Database/KbasetoKEGGCPD.txt',\n",
    "                        PATH+'/Database/KbasetoKEGGRXN.txt',\n",
    "                        inchidb, database, kbase_reaction_type)\n",
    "    if metacyc:\n",
    "        bmcdb.Translate(database, DB, metacyc_xml_file, translation_file,\n",
    "                            inchidb, metacyc_reaction_type)\n",
    "    if kegg and (kbase or metacyc):\n",
    "        '''\n",
    "        Add kegg database\n",
    "        '''\n",
    "        BKD = bkeggdb.CompileKEGGIntoDB(database, kegg_organism_type,\n",
    "                                        inchidb, processors, kegg_number_organisms,\n",
    "                                        kegg_number_pathways, kegg_reaction_type,\n",
    "                                        add=True)\n",
    "        DB = BKD.DB\n",
    "    elif kegg and not kbase and not metacyc:\n",
    "        '''\n",
    "        Add only kbase database\n",
    "        '''\n",
    "        print ('STATUS: Only KEGG')\n",
    "        BKD = bkeggdb.CompileKEGGIntoDB(database, kegg_organism_type,\n",
    "                                        inchidb, processors, kegg_number_organisms, \n",
    "                                        kegg_number_pathways, kegg_reaction_type,\n",
    "                                        add=False)\n",
    "        DB = BKD.DB\n",
    "\n",
    "    if SPRESI:\n",
    "        if not spresi_dir:\n",
    "            raise ValueError('need folder path for spresi folder, see Specify User Options cell')\n",
    "        compartmentID = get_compartment(DB)\n",
    "        bspresidb.RDF_Reader(spresi_dir, database, spresi_reaction_type,\n",
    "                                  compartmentID, processors)\n",
    "        DB = Q.Connector(database)\n",
    "\n",
    "    if mine:\n",
    "        bminedb.BuildMINEdb(mine_dir, database,\n",
    "                            inchidb, mine_reaction_type)\n",
    "\n",
    "    if atlas:\n",
    "        batlasdb.build_atlas(atlas_dir, database, inchidb,\n",
    "                             processors, atlas_reaction_type)\n",
    "\n",
    "    rdc.OverlappingCpdIDs(database)\n",
    "    DB = Q.Connector(database)\n",
    "\n",
    "else:\n",
    "    DB = Q.Connector(database)\n",
    "    if kbase:\n",
    "        bkdb.BuildKbase(kbase_dir, PATH+'/Database/KbasetoKEGGCPD.txt',\n",
    "                        PATH+'/Database/KbasetoKEGGRXN.txt',\n",
    "                        inchidb, database, kbase_reaction_type)\n",
    "    if metacyc:\n",
    "        bmcdb.Translate(database, DB, metacyc_xml_file, translation_file,\n",
    "                            inchidb, metacyc_reaction_type)\n",
    "    if kegg and (kbase or metacyc):\n",
    "        '''\n",
    "        Add kegg daatabase\n",
    "        '''\n",
    "        BKD = bkeggdb.CompileKEGGIntoDB(database, kegg_organism_type,\n",
    "                                        inchidb, processors, kegg_number_organisms,\n",
    "                                        kegg_number_pathways, kegg_reaction_type,\n",
    "                                        add=True)\n",
    "        DB = BKD.DB\n",
    "\n",
    "    if SPRESI:\n",
    "        if not spresi_dir:\n",
    "            raise ValueError('need folder path for spresi folder, see Specify User Options cell')\n",
    "        compartmentID = get_compartment(DB)\n",
    "        bspresidb.RDF_Reader(spresi_dir, database, spresi_reaction_type,\n",
    "                                  compartmentID, processors)\n",
    "        DB = Q.Connector(database)\n",
    "    if mine:\n",
    "        bminedb.BuildMINEdb(mine_dir, database,\n",
    "                            inchidb, mine_reaction_type)\n",
    "\n",
    "    if atlas:\n",
    "        batlasdb.build_atlas(atlas_dir, database, inchidb,\n",
    "                             processors, atlas_reaction_type) \n",
    "\n",
    "    if inchidb and (kbase or metacyc or kegg or SPRESI or mine or atlas):\n",
    "        '''only run to remove overlapping ids if a database was added''' \n",
    "        rdc.OverlappingCpdIDs(database)\n",
    "    DB = Q.Connector(database)\n",
    "\n",
    "##Pull out reactions to be searched through to identify shortest path\n",
    "allcpds = DB.get_all_compounds()\n",
    "if evalrxns == 'all':\n",
    "    allrxns = DB.get_all_reactions()\n",
    "elif evalrxns == 'bio':\n",
    "    allrxns = DB.get_reactions_based_on_type('bio')\n",
    "elif evalrxns == 'chem': \n",
    "    allrxns = DB.get_reactions_based_on_type('chem')\n"
   ]
  },
  {
   "cell_type": "markdown",
   "metadata": {
    "collapsed": true,
    "deletable": true,
    "editable": true
   },
   "source": [
    "### Read in target compounds"
   ]
  },
  {
   "cell_type": "code",
   "execution_count": 18,
   "metadata": {
    "collapsed": false,
    "deletable": true,
    "editable": true
   },
   "outputs": [
    {
     "name": "stdout",
     "output_type": "stream",
     "text": [
      "STATUS: 1.0 tanimoto threshold being used\n"
     ]
    },
    {
     "name": "stderr",
     "output_type": "stream",
     "text": [
      "100%|██████████| 2/2 [00:00<00:00, 120.06it/s]\n",
      "  0%|          | 0/610819 [00:00<?, ?it/s]"
     ]
    },
    {
     "name": "stdout",
     "output_type": "stream",
     "text": [
      "STATUS: getting fingerprints for target compounds\n",
      "STATUS: getting fingerprints for database compounds\n"
     ]
    },
    {
     "name": "stderr",
     "output_type": "stream",
     "text": [
      "100%|██████████| 610819/610819 [18:10<00:00, 560.06it/s]\n"
     ]
    },
    {
     "name": "stdout",
     "output_type": "stream",
     "text": [
      "STATUS: The following compound InChI=1S/C10H18O/c1-9(2)8-4-6-10(3,11-9)7-5-8/h8H,4-7H2,1-3H3/t8?,10- have 100 percent similarity with the original target InChI=1S/C10H18O/c1-9(2)8-4-6-10(3,11-9)7-5-8/h8H,4-7H2,1-3H3 therefore adding them to to targets\n",
      "STATUS: The following compound InChI=1S/C10H16/c1-7(2)10-5-4-8(3)9(10)6-10/h7,9H,3-6H2,1-2H3/t9-,10-/m1/s1 have 100 percent similarity with the original target InChI=1S/C10H16/c1-7(2)10-5-4-8(3)9(10)6-10/h7,9H,3-6H2,1-2H3 therefore adding them to to targets\n"
     ]
    }
   ],
   "source": [
    "if not target_file:\n",
    "    raise ValueError('need a file for target_file, see Specify User Options cell')\n",
    "R = rt.Readfile(target_file, DB, inchidb)\n",
    "if len(R.targets) == 0:\n",
    "    raise ValueError('ERROR: No targets, try different compounds')\n",
    "output = go.Output(DB, output_path, flux_balance_analysis, knockouts)\n",
    "if inchidb:\n",
    "    print ('STATUS: {} tanimoto threshold being used'.format(float(tanimoto_threshold)))\n",
    "    SIM = ss.TanimotoStructureSimilarity(R.targets, DB.get_all_compounds(),\n",
    "                                         DB.get_compartment('cytosol')[0],\n",
    "                                         DB.get_compartment('extracellular')[0],\n",
    "                                         tanimoto_threshold)\n",
    "    targets = SIM.finaltargets\n",
    "    ignore_reactions = R.ignorerxns\n",
    "else:\n",
    "    targets = R.targets\n",
    "    ignore_reactions = R.ignorerxns\n"
   ]
  },
  {
   "cell_type": "markdown",
   "metadata": {
    "collapsed": true,
    "deletable": true,
    "editable": true
   },
   "source": [
    "### Construct Database constraints"
   ]
  },
  {
   "cell_type": "code",
   "execution_count": 19,
   "metadata": {
    "collapsed": false,
    "deletable": true,
    "editable": true
   },
   "outputs": [
    {
     "name": "stderr",
     "output_type": "stream",
     "text": [
      "  0%|          | 173/854195 [00:00<08:13, 1729.46it/s]"
     ]
    },
    {
     "name": "stdout",
     "output_type": "stream",
     "text": [
      "STATUS: Generating reaction constraints ...\n"
     ]
    },
    {
     "name": "stderr",
     "output_type": "stream",
     "text": [
      "100%|██████████| 854195/854195 [01:14<00:00, 11522.09it/s]\n",
      "  0%|          | 228/615234 [00:00<05:22, 1909.23it/s]"
     ]
    },
    {
     "name": "stdout",
     "output_type": "stream",
     "text": [
      "STATUS: Generating compound constraints from preloaded file (pulp) ...\n"
     ]
    },
    {
     "name": "stderr",
     "output_type": "stream",
     "text": [
      "100%|██████████| 615234/615234 [05:03<00:00, 2026.34it/s]\n"
     ]
    }
   ],
   "source": [
    "if not constraints_file:\n",
    "    raise ValueError('need a specified file for constraints_file, see Specify User Options cell')\n",
    "if create_new_constraints:\n",
    "    LP = co.ConstructInitialLP(allrxns, allcpds, DB,\n",
    "                               ignore_reactions, True,\n",
    "                               reverse_constraints=False,\n",
    "                               specified_pysolver=_solver)\n",
    "    with open(constraints_file, 'wb') as fout1:\n",
    "        cPickle.dump(LP.A, fout1)\n",
    "        cPickle.dump(LP.allcpds, fout1)\n",
    "\n",
    "else:\n",
    "    with open(constraints_file, 'rb') as fin1:\n",
    "        A = cPickle.load(fin1)\n",
    "        allcompounds4matrix = cPickle.load(fin1)\n",
    "    LP = co.ConstructInitialLP(allrxns, allcompounds4matrix, DB,\n",
    "                               ignore_reactions, A,\n",
    "                               reverse_constraints=False,\n",
    "                               specified_pysolver=_solver)\n"
   ]
  },
  {
   "cell_type": "markdown",
   "metadata": {
    "deletable": true,
    "editable": true
   },
   "source": [
    "### Set up integer program and active metabolism"
   ]
  },
  {
   "cell_type": "code",
   "execution_count": 20,
   "metadata": {
    "collapsed": false,
    "deletable": true,
    "editable": true
   },
   "outputs": [
    {
     "name": "stdout",
     "output_type": "stream",
     "text": [
      "STATUS: Getting organism compounds ... \n",
      "STATUS: Getting organism reactions ... \n",
      "STATUS: Determine what compounds in network are active (can be produced)\n"
     ]
    },
    {
     "name": "stderr",
     "output_type": "stream",
     "text": [
      "100%|██████████| 1275/1275 [02:40<00:00,  7.95it/s]\n"
     ]
    }
   ],
   "source": [
    "#Develops IP\n",
    "DB = Q.Connector(database)\n",
    "if LP.PYSOLVER is 'GLPK':\n",
    "    IP = ip_glpk.IntergerProgram(DB, limit_reactions, limit_cycles,\n",
    "                                 k_number_of_paths, cycles)\n",
    "elif LP.PYSOLVER is 'PULP':\n",
    "    IP = ip_pulp.IntergerProgram(DB, limit_reactions, limit_cycles,\n",
    "                                 k_number_of_paths, cycles, _solver_time_limit)\n",
    "\n",
    "#Determines active metabolism if flux_balance_analysis is True\n",
    "active_metabolism = {}\n",
    "if flux_balance_analysis:\n",
    "    organisms = set()\n",
    "    output_queue = Queue()\n",
    "    for target_info in targets:\n",
    "        organisms.add(target_info[2])\n",
    "    organisms = list(organisms)\n",
    "    args_organisms = [organisms[i:i+processors] for i in range(0, len(organisms), processors)]\n",
    "    for orgs in args_organisms:\n",
    "        processes = []\n",
    "        for org in orgs:\n",
    "            incpds = DB.get_compounds_in_model(org)\n",
    "            inrxns = DB.get_reactions_in_model(org)\n",
    "            processes.append(Process(target = rpm.RetrieveActiveRxnsCompounds,\n",
    "                                     args=(org, incpds, inrxns, DB, output_queue,\n",
    "                                           media_for_FBA)))\n",
    "        for p in processes:\n",
    "            p.start()\n",
    "        for p in processes:\n",
    "            ac = output_queue.get()\n",
    "            active_metabolism.update(ac)\n",
    "    output.output_activemetabolism(active_metabolism)"
   ]
  },
  {
   "cell_type": "markdown",
   "metadata": {
    "collapsed": true,
    "deletable": true,
    "editable": true
   },
   "source": [
    "### Identify shortest paths"
   ]
  },
  {
   "cell_type": "code",
   "execution_count": 22,
   "metadata": {
    "collapsed": false,
    "deletable": true,
    "editable": true
   },
   "outputs": [
    {
     "name": "stdout",
     "output_type": "stream",
     "text": [
      "['InChI=1S/C10H16/c1-7(2)10-5-4-8(3)9(10)6-10/h7,9H,3-6H2,1-2H3_c0', '', 'kb_g_0_fbamdl176', '']\n",
      "STATUS: Setting compound constraints ...\n",
      "STATUS: Generating objective function coefficients ...\n",
      "STATUS: Setting objective function ...\n",
      "STATUS: Solving problem ...\n",
      "STATUS: Checking for cycles in the identified pathways\n",
      "STATUS: No cycles were found\n",
      "STATUS: Checking for multiple optimal solutions ... \n",
      "STATUS: Setting objective function ...\n",
      "STATUS: Solving problem ...\n",
      "STATUS: Checking for cycles in the identified pathways\n",
      "STATUS: No cycles were found\n",
      "\n",
      "SHORTEST PATH FOR InChI=1S/C10H16/c1-7(2)10-5-4-8(3)9(10)6-10/h7,9H,3-6H2,1-2H3_c0 sabinene in target organism Escherichia_coli_K12.xml\n",
      "Solution 1\n",
      "rxn24046_c0\tRXN-5103\tforward\t4.2.3.-\tG-10243 or G-9788 or AG11 or AT3G25820\n",
      "\tInChI=1S/C10H20O7P2/c1-9(2)5-4-6-10(3)7-8-16-19(14,15)17-18(11,12)13/h5,7H,4,6,8H2,1-3H3,(H,14,15)(H2,11,12,13)/p-3/b10-7+_c0\tgeranyl diphosphate reactants\n",
      "\tInChI=1S/C10H16/c1-7(2)10-5-4-8(3)9(10)6-10/h7,9H,3-6H2,1-2H3_c0\tsabinene products\n",
      "\tInChI=1S/H4O7P2/c1-8(2,3)7-9(4,5)6/h(H2,1,2,3)(H2,4,5,6)/p-3_c0\tdiphosphate products\n",
      "STATUS: Building FBA model ... \n",
      "STATUS: Getting organism compounds ... \n",
      "STATUS: Getting organism reactions ... \n",
      "STATUS: Finished optimizing first model\n",
      "STATUS: Running FBA ...\n",
      "STATUS: Removing modifications\n",
      "FBA Solutions for InChI=1S/C10H16/c1-7(2)10-5-4-8(3)9(10)6-10/h7,9H,3-6H2,1-2H3_c0\n",
      "891.06\t1234.0 objective function solutions for wild-type and mutant\n",
      "External pathway with most flux:\n",
      "\tPath 1\t['rxn24046_c0']\n",
      "\tTotal flux through path: 342.937468146\n",
      "['InChI=1S/C10H18O/c1-9(2)8-4-6-10(3,11-9)7-5-8/h8H,4-7H2,1-3H3_c0', '', 'kb_g_0_fbamdl176', '']\n",
      "STATUS: Setting compound constraints ...\n",
      "STATUS: Generating objective function coefficients ...\n",
      "STATUS: Setting objective function ...\n",
      "STATUS: Solving problem ...\n",
      "No paths could be found to get to target compound InChI=1S/C10H18O/c1-9(2)8-4-6-10(3,11-9)7-5-8/h8H,4-7H2,1-3H3_c0 1,8-Cineol in target organism Escherichia_coli_K12.xml\n",
      "WARNING: No optimal path for InChI=1S/C10H18O/c1-9(2)8-4-6-10(3,11-9)7-5-8/h8H,4-7H2,1-3H3_c0 in species kb_g_0_fbamdl176 therefore no                           flux balance will be performed\n",
      "['InChI=1S/C10H18O/c1-9(2)8-4-6-10(3,11-9)7-5-8/h8H,4-7H2,1-3H3/t8?,10-_c0', '', 'kb_g_0_fbamdl176', '']\n",
      "STATUS: Setting compound constraints ...\n",
      "STATUS: Generating objective function coefficients ...\n",
      "STATUS: Setting objective function ...\n",
      "STATUS: Solving problem ...\n",
      "STATUS: Checking for cycles in the identified pathways\n",
      "STATUS: No cycles were found\n",
      "STATUS: Checking for multiple optimal solutions ... \n",
      "STATUS: Setting objective function ...\n",
      "STATUS: Solving problem ...\n",
      "STATUS: Checking for cycles in the identified pathways\n",
      "STATUS: No cycles were found\n",
      "\n",
      "SHORTEST PATH FOR InChI=1S/C10H18O/c1-9(2)8-4-6-10(3,11-9)7-5-8/h8H,4-7H2,1-3H3/t8?,10-_c0 1,8-cineole in target organism Escherichia_coli_K12.xml\n",
      "Solution 1\n",
      "rxn16811_c0\tRXN-12980\tforward\t4.2.3.108\tG-15253 or AT3G25820\n",
      "\tInChI=1S/C10H20O7P2/c1-9(2)5-4-6-10(3)7-8-16-19(14,15)17-18(11,12)13/h5,7H,4,6,8H2,1-3H3,(H,14,15)(H2,11,12,13)/p-3/b10-7+_c0\tgeranyl diphosphate reactants\n",
      "\tInChI=1S/H2O/h1H2_c0\tH2O_c0 reactants\n",
      "\tInChI=1S/C10H18O/c1-9(2)8-4-6-10(3,11-9)7-5-8/h8H,4-7H2,1-3H3/t8?,10-_c0\t1,8-cineole products\n",
      "\tInChI=1S/H4O7P2/c1-8(2,3)7-9(4,5)6/h(H2,1,2,3)(H2,4,5,6)/p-3_c0\tdiphosphate products\n",
      "STATUS: Building FBA model ... \n",
      "STATUS: Getting organism compounds ... \n",
      "STATUS: Getting organism reactions ... \n",
      "STATUS: Finished optimizing first model\n",
      "STATUS: Running FBA ...\n",
      "STATUS: Removing modifications\n",
      "FBA Solutions for InChI=1S/C10H18O/c1-9(2)8-4-6-10(3,11-9)7-5-8/h8H,4-7H2,1-3H3/t8?,10-_c0\n",
      "891.06\t1234.0 objective function solutions for wild-type and mutant\n",
      "External pathway with most flux:\n",
      "\tPath 1\t['rxn16811_c0']\n",
      "\tTotal flux through path: 342.937468146\n",
      "['InChI=1S/C10H16/c1-7(2)10-5-4-8(3)9(10)6-10/h7,9H,3-6H2,1-2H3/t9-,10-/m1/s1_c0', '', 'kb_g_0_fbamdl176', '']\n",
      "STATUS: Setting compound constraints ...\n",
      "STATUS: Generating objective function coefficients ...\n",
      "STATUS: Setting objective function ...\n",
      "STATUS: Solving problem ...\n",
      "STATUS: Checking for cycles in the identified pathways\n",
      "STATUS: No cycles were found\n",
      "STATUS: Checking for multiple optimal solutions ... \n",
      "STATUS: Setting objective function ...\n",
      "STATUS: Solving problem ...\n",
      "STATUS: Checking for cycles in the identified pathways\n",
      "STATUS: No cycles were found\n",
      "\n",
      "SHORTEST PATH FOR InChI=1S/C10H16/c1-7(2)10-5-4-8(3)9(10)6-10/h7,9H,3-6H2,1-2H3/t9-,10-/m1/s1_c0 (+)-sabinene in target organism Escherichia_coli_K12.xml\n",
      "Solution 1\n",
      "rxn16813_c0\tRXN-12982\tforward\t4.2.3.110\tNone\n",
      "\tInChI=1S/C10H20O7P2/c1-9(2)5-4-6-10(3)7-8-16-19(14,15)17-18(11,12)13/h5,7H,4,6,8H2,1-3H3,(H,14,15)(H2,11,12,13)/p-3/b10-7+_c0\tgeranyl diphosphate reactants\n",
      "\tInChI=1S/H4O7P2/c1-8(2,3)7-9(4,5)6/h(H2,1,2,3)(H2,4,5,6)/p-3_c0\tdiphosphate products\n",
      "\tInChI=1S/C10H16/c1-7(2)10-5-4-8(3)9(10)6-10/h7,9H,3-6H2,1-2H3/t9-,10-/m1/s1_c0\t(+)-sabinene products\n",
      "STATUS: Building FBA model ... \n",
      "STATUS: Getting organism compounds ... \n",
      "STATUS: Getting organism reactions ... \n",
      "STATUS: Finished optimizing first model\n",
      "STATUS: Running FBA ...\n",
      "STATUS: Removing modifications\n",
      "FBA Solutions for InChI=1S/C10H16/c1-7(2)10-5-4-8(3)9(10)6-10/h7,9H,3-6H2,1-2H3/t9-,10-/m1/s1_c0\n",
      "891.06\t1234.0 objective function solutions for wild-type and mutant\n",
      "External pathway with most flux:\n",
      "\tPath 1\t['rxn16813_c0']\n",
      "\tTotal flux through path: 342.937468146\n"
     ]
    }
   ],
   "source": [
    "#Function determines what was inputed for a specific target \n",
    "def _specific_target(target_id):\n",
    "    if target_id in ['', 'NA', 'N/A']:\n",
    "        return False\n",
    "    else:\n",
    "        return True\n",
    "\n",
    "#Function finds shortest path    \n",
    "def retrieve_shortestpath(target_info, IP, LP, database, output, active_metabolism):\n",
    "    DB = Q.Connector(database)\n",
    "    print (target_info)\n",
    "    if not _specific_target(target_info[2]) and not start_compounds:\n",
    "        print ('WARNING: No organism given therefore software will run all organisms in database {} compound'.format(target_info[0]))\n",
    "        ''' takes about 5 hours '''\n",
    "        smc.SearchMetabolicClusters(target_info[0], LP, IP, output, DB)\n",
    "    else:\n",
    "        if start_compounds:\n",
    "           incpds = rtsc.readfile_startcompounds(start_compounds)\n",
    "           inrxns = []\n",
    "        else:\n",
    "            incpds = DB.get_compounds_in_model(target_info[2])\n",
    "            inrxns = DB.get_reactions_in_model(target_info[2])\n",
    "\n",
    "        if flux_balance_analysis:\n",
    "            incpds_active = active_metabolism[target_info[2]][0]\n",
    "            inrxns_active = active_metabolism[target_info[2]][1]\n",
    "        else:\n",
    "            incpds_active = incpds\n",
    "            inrxns_active = inrxns\n",
    "\n",
    "        if target_info[0] in incpds_active: #Check if compound exists in organism\n",
    "            output.output_compound_natively_present_in_target_organism(target_info)\n",
    "        else:\n",
    "            optimal_pathways = IP.run_glpk(LP, incpds_active, inrxns, target_info[0],\n",
    "                                           multiplesolutions=multiple_solutions)\n",
    "            if optimal_pathways:\n",
    "                uniq_externalrxns = []\n",
    "                for path in optimal_pathways:\n",
    "                    path_org = []\n",
    "                    for rxn in path:\n",
    "                        rxn = re.sub('_F$', '', rxn)\n",
    "                        rxn = re.sub('_R$', '', rxn)\n",
    "                        path_org.append(rxn)\n",
    "                    uniq_externalrxns.append(list(set(path_org) - set(inrxns)))\n",
    "\n",
    "                ex_info = ei.Extract_Information(optimal_pathways, incpds_active, DB)\n",
    "                output.output_shortest_paths(target_info, ex_info.temp_rxns)\n",
    "                if flux_balance_analysis:\n",
    "                    opt_fba = run_flux_balance_analysis(target_info, ex_info, incpds, \n",
    "                                                        incpds_active, inrxns_active,\n",
    "                                                        media_for_FBA, knockouts,\n",
    "                                                        output, figures, DB, LP)\n",
    "                    if figures:\n",
    "                        G = spgd.GraphDot(DB, output_path, incpds_active, inrxns,\n",
    "                                          opt_fba.fbasol.x_dict)\n",
    "                        G.sc_graph(target_info[0], target_info[2], ex_info.temp_rxns, _images)                     \n",
    "                        R = rf.ReactionFiles(output_path, DB, ex_info.temp_rxns,\n",
    "                                         target_info[0], target_info[2], incpds_active)\n",
    "                        output.output_extra(target_info[0], R.ordered_paths, ex_info.temp_rxns, incpds_active)\n",
    "\n",
    "                elif figures and not flux_balance_analysis:\n",
    "                    G = spgd.GraphDot(DB, output_path, incpds, inrxns)\n",
    "                    G.sc_graph(target_info[0], target_info[2], ex_info.temp_rxns, _images)\n",
    "                    R = rf.ReactionFiles(output_path, DB, ex_info.temp_rxns,\n",
    "                                     target_info[0], target_info[2], incpds)                    \n",
    "                    output.output_extra(target_info[0], R.ordered_paths, ex_info.temp_rxns, incpds_active)\n",
    "\n",
    "            else:\n",
    "                output.output_shortest_paths(target_info, [])\n",
    "                if flux_balance_analysis:\n",
    "                    print('WARNING: No optimal path for %s in species %s therefore no \\\n",
    "                          flux balance will be performed' % (target_info[0], target_info[2]))\n",
    "    DB.conn.close()\n",
    "\n",
    "#Function runs flux balance analysis\n",
    "\n",
    "def run_flux_balance_analysis(target_info, ex_info, incpds_original,\n",
    "                              incpds_active, inrxns, media, ko,\n",
    "                              output, figures, DB, LP):\n",
    "    '''\n",
    "    Run flux balance analysis on target organism with added reactions\n",
    "    necessary to produce target compound\n",
    "    '''\n",
    "    fba = bm.BuildModel(target_info[2], incpds_original, inrxns, DB, media)\n",
    "    opt_fba = ot.OptimizeTarget(target_info[0], target_info[2],\n",
    "                                fba.model, ex_info.temp_rxns,\n",
    "                                ex_info.temp_exmets,\n",
    "                                fba.compounds_dict, incpds_active,\n",
    "                                inrxns, DB, ko)\n",
    "    comparisonresults = cr.Compare(target_info[0], fba.solution,\n",
    "                                   opt_fba.fbasol, ex_info.temp_rxns, DB)\n",
    "    output.output_FBA(target_info, fba.solution, opt_fba, comparisonresults,\n",
    "                      ex_info.temp_rxns)\n",
    "    output.output_theoretical_yield(target_info[0], target_info[2],\n",
    "                                    opt_fba.fbasol,\n",
    "                                    opt_fba.compounds_dict)\n",
    "    if ko:\n",
    "        output.output_essential_reactions(target_info[0], target_info[2],\n",
    "                                          opt_fba.essentialrxns)\n",
    "        comparisonKOresults = crko.CompareKO(target_info[0], opt_fba.fbasol,\n",
    "                                             opt_fba.KOsolutions,\n",
    "                                             ex_info.temp_rxns, DB)\n",
    "        output.output_FBA_KOs(target_info, comparisonKOresults,\n",
    "                              ex_info.temp_rxns)\n",
    "    return(opt_fba)\n",
    "\n",
    "#Actually runs functions to identify shortest paths\n",
    "args_rcp_chunks = [targets[i:i+processors] for i in range(0, len(targets), processors)]\n",
    "for chunks in args_rcp_chunks:\n",
    "    processes = [Process(target=retrieve_shortestpath,\n",
    "                         args=(chunk, IP, LP, database, output, active_metabolism)) for chunk in chunks]\n",
    "    for p in processes:\n",
    "        p.start()\n",
    "    for p in processes:\n",
    "        p.join()\n",
    "'''Remove all temporary images'''\n",
    "if _images:\n",
    "    for filename in glob.glob(PATH+\"/Visualization/compound*\"):\n",
    "        os.remove(filename) \n"
   ]
  },
  {
   "cell_type": "markdown",
   "metadata": {
    "deletable": true,
    "editable": true
   },
   "source": [
    "### Figures \n",
    "The final code in this notebook shows figures generated within the jupyter notebook.  \n",
    "Key for figures:\n",
    "\n",
    "Gray compounds = Native compounds to target organism\n",
    "\n",
    "Blue compounds = Non native compounds to the target organism\n",
    "\n",
    "Red compound = Target compound"
   ]
  },
  {
   "cell_type": "code",
   "execution_count": 23,
   "metadata": {
    "collapsed": false,
    "deletable": true,
    "editable": true
   },
   "outputs": [
    {
     "name": "stdout",
     "output_type": "stream",
     "text": [
      "FINISHED GETTING PATHWAYS OUTPUT FIGURES TO JUYPTER NOTEBOOK\n",
      "/Users/lwhitmo/Desktop/reaction_figures/colorbarforreactionflux.png\n"
     ]
    },
    {
     "data": {
      "image/png": "[encoded data removed]"
     },
     "metadata": {},
     "output_type": "display_data"
    },
    {
     "name": "stdout",
     "output_type": "stream",
     "text": [
      "/Users/lwhitmo/Desktop/reaction_figures/SC_graph_(+)_sabinene_Escherichia_coli_K12.xml.png\n"
     ]
    },
    {
     "data": {
      "image/png": "[encoded data removed]"
     },
     "metadata": {},
     "output_type": "display_data"
    },
    {
     "name": "stdout",
     "output_type": "stream",
     "text": [
      "/Users/lwhitmo/Desktop/reaction_figures/SC_graph_1,8_cineole_Escherichia_coli_K12.xml.png\n"
     ]
    },
    {
     "data": {
      "image/png": "[encoded data removed]"
     },
     "metadata": {},
     "output_type": "display_data"
    },
    {
     "name": "stdout",
     "output_type": "stream",
     "text": [
      "/Users/lwhitmo/Desktop/reaction_figures/SC_graph_sabinene_Escherichia_coli_K12.xml.png\n"
     ]
    },
    {
     "data": {
      "image/png": "[encoded data removed]"
     },
     "metadata": {},
     "output_type": "display_data"
    }
   ],
   "source": [
    "print ('FINISHED GETTING PATHWAYS OUTPUT FIGURES TO JUYPTER NOTEBOOK')\n",
    "#Display figures in Juypter Notebook\n",
    "import IPython.display as dp\n",
    "import glob\n",
    "files = glob.glob(os.path.join(output_path+'/reaction_figures', '*.png'))\n",
    "for file_name in files:\n",
    "    print (file_name)\n",
    "    dp.display_png(dp.Image(filename=file_name, format='png'))\n",
    "\n"
   ]
  },
  {
   "cell_type": "code",
   "execution_count": null,
   "metadata": {
    "collapsed": true,
    "deletable": true,
    "editable": true
   },
   "outputs": [],
   "source": []
  }
 ],
 "metadata": {
  "kernelspec": {
   "display_name": "Python 2",
   "language": "python",
   "name": "python2"
  },
  "language_info": {
   "codemirror_mode": {
    "name": "ipython",
    "version": 2
   },
   "file_extension": ".py",
   "mimetype": "text/x-python",
   "name": "python",
   "nbconvert_exporter": "python",
   "pygments_lexer": "ipython2",
   "version": "2.7.11"
  }
 },
 "nbformat": 4,
 "nbformat_minor": 2
}
